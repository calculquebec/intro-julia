{
 "cells": [
  {
   "cell_type": "markdown",
   "metadata": {},
   "source": [
    "## Julia Packages and Calling Other Languages\n",
    "\n",
    "Now we've seen how to write our own functions in Julia. But just like Python and R, the Julia community is constantly putting out Packages containing functions you can import into your program instead of re-inventing the wheel everytime you need to do something non-trivial.\n",
    "\n",
    "Installing and using new Packages in Julia is easy. First load the package manager (called `Pkg`), then add new packages to your local Julia install.\n",
    "\n",
    "Syntax:\n",
    "\n",
    "```julia\n",
    "using Pkg\n",
    "Pkg.add(\"*package name*\")\n",
    "```\n",
    "\n",
    "Then load packages in your Julia program.\n",
    "\n",
    "Syntax:\n",
    "\n",
    "```julia\n",
    "using *package name*\n",
    "```\n",
    "\n",
    "Example:"
   ]
  },
  {
   "cell_type": "code",
   "execution_count": null,
   "metadata": {},
   "outputs": [],
   "source": [
    "#LET'S CREATE A SIMPLE SCATTERPLOT OF 100 RANDOM POINTS\n",
    "\n",
    "X = [1:100]\n",
    "Y = rand(100)\n",
    "\n",
    "scatter(X,Y)"
   ]
  },
  {
   "cell_type": "code",
   "execution_count": null,
   "metadata": {},
   "outputs": [],
   "source": [
    "#Pkg.add(\"Plots\")"
   ]
  },
  {
   "cell_type": "code",
   "execution_count": null,
   "metadata": {},
   "outputs": [],
   "source": [
    "using Plots\n",
    "\n",
    "scatter(X,Y)"
   ]
  },
  {
   "cell_type": "code",
   "execution_count": null,
   "metadata": {},
   "outputs": [],
   "source": [
    "# LET'S FIND THE DERIVATIVE OF A MATHEMATICAL FUNCTION\n",
    "\n",
    "#Pkg.add(\"SymEngine\") \n",
    "using SymEngine #SymEngine IS A SYMBOLIC MATHEMATICS PACKAGE\n",
    "\n",
    "@vars x # THE '@' IDENTIFIER CALLS MACROS. THIS ONE DEFINES x AS A SYMBOLIC MATH VARIABLE\n",
    "\n",
    "g = x^2 + 2*x + 2\n",
    "\n",
    "diff(g,x)\n"
   ]
  },
  {
   "cell_type": "markdown",
   "metadata": {},
   "source": [
    "Julia's community is growing and with it the number of available packages! But still, Python and R have been around longer and have a broader selection of packages.\n",
    "\n",
    "The good news is: you can call Python and R packages directly from your Julia code!\n",
    "\n",
    "Syntax:\n",
    "\n",
    "`Python:`\n",
    "\n",
    "```julia\n",
    "using PyCall\n",
    "\n",
    "@pyimport *python library* as *name*\n",
    "\n",
    "*use your Python functions inside your Julia program normally*\n",
    "```\n",
    "\n",
    "Or\n",
    "\n",
    "```julia\n",
    "using PyCall\n",
    "\n",
    "Python\"*Your Python Code Here*\"\n",
    "\n",
    "```\n",
    "\n",
    "`R:`\n",
    "\n",
    "```julia\n",
    "using RCall\n",
    "\n",
    "@rlibrary *R library* as *name*\n",
    "\n",
    "*use your R functions inside your Julia program normally*\n",
    "```\n",
    "\n",
    "Or\n",
    "\n",
    "```julia\n",
    "using RCall\n",
    "\n",
    "R\"*Your R Code Here*\"\n",
    "\n",
    "```\n",
    "\n"
   ]
  },
  {
   "cell_type": "code",
   "execution_count": null,
   "metadata": {},
   "outputs": [],
   "source": [
    "using PyCall\n",
    "\n",
    "@pyimport matplotlib.pyplot as plt\n",
    "\n",
    "plt.plot(X,Y)"
   ]
  },
  {
   "cell_type": "code",
   "execution_count": null,
   "metadata": {},
   "outputs": [],
   "source": [
    "using PyCall\n",
    "\n",
    "Python\"sum([1,2,3,4,5])\""
   ]
  },
  {
   "cell_type": "code",
   "execution_count": null,
   "metadata": {},
   "outputs": [],
   "source": [
    "using RCall\n",
    "\n",
    "@rlibrary car as car\n",
    "@rlibrary base as rbase\n",
    "\n",
    "model = rbase.lm(Y~X)\n",
    "\n",
    "car.Anova(model)"
   ]
  },
  {
   "cell_type": "code",
   "execution_count": null,
   "metadata": {},
   "outputs": [],
   "source": [
    "using RCall\n",
    "\n",
    "R\"sum(c(1,2,3,4,5))\""
   ]
  },
  {
   "cell_type": "code",
   "execution_count": null,
   "metadata": {},
   "outputs": [],
   "source": []
  }
 ],
 "metadata": {
  "kernelspec": {
   "display_name": "Julia 1.4.0",
   "language": "julia",
   "name": "julia-1.4"
  },
  "language_info": {
   "file_extension": ".jl",
   "mimetype": "application/julia",
   "name": "julia",
   "version": "1.4.0"
  }
 },
 "nbformat": 4,
 "nbformat_minor": 4
}
