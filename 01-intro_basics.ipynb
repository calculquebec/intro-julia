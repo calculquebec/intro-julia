{
 "cells": [
  {
   "cell_type": "markdown",
   "metadata": {},
   "source": [
    "# Introduction to Julia\n",
    "Welcome to Calcul Québec's introduction to Julia workshop. Please read the following housekeeping items before you scroll down to where the action happens!\n",
    "\n",
    "## What this workshop is:\n",
    "This workshop and its accompanying material were developed for beginners in the Julia language, but who have had previous experience with programming using other languages. The goals of this workshop are:\n",
    "\n",
    "1. To introduce participants to the Julia language, highlighting similarities and differences with popular languages like Python, MATLAB and R.\n",
    "\n",
    "2. Show participants basic examples of Numerical Computing and Data Analytics with Julia.\n",
    "\n",
    "## What this workshop isn't:\n",
    "1. An introduction to programming.\n",
    "\n",
    "2. A course on scientific computing (though we will see some aspects of it that are made easy in Julia).\n",
    "\n",
    "## The workshop will follow the structure below:\n",
    "\n",
    "* Basics: Declaring Variables & Julia's Data Structures\n",
    "\n",
    "* Control Flow: Loops and Conditionals\n",
    "\n",
    "* Functions\n",
    "\n",
    "* Packages and Calling Other Languages\n",
    "\n",
    "* Quick Look at Numerical Computing & Data Anlytics\n",
    "\n",
    "\n",
    "Without further ado...\n",
    "\n",
    "____"
   ]
  },
  {
   "cell_type": "markdown",
   "metadata": {},
   "source": [
    "## The Basics\n",
    "\n",
    "Let's start from the begining. Julia's syntax for assigning values to variables looks just like Python and R (for some of you R folks anyway):"
   ]
  },
  {
   "cell_type": "code",
   "execution_count": null,
   "metadata": {},
   "outputs": [],
   "source": [
    "a = 1\n",
    "print(\"a is equal to $a\") # WHAT DOES THE DOLLAR SIGN DO?"
   ]
  },
  {
   "cell_type": "markdown",
   "metadata": {},
   "source": [
    "You can assign floating point numbers like this:"
   ]
  },
  {
   "cell_type": "code",
   "execution_count": null,
   "metadata": {},
   "outputs": [],
   "source": [
    "a = 1.0"
   ]
  },
  {
   "cell_type": "markdown",
   "metadata": {},
   "source": [
    "Or this:"
   ]
  },
  {
   "cell_type": "code",
   "execution_count": null,
   "metadata": {},
   "outputs": [],
   "source": [
    "a = 1."
   ]
  },
  {
   "cell_type": "markdown",
   "metadata": {},
   "source": [
    "And also complex numbers!"
   ]
  },
  {
   "cell_type": "code",
   "execution_count": null,
   "metadata": {},
   "outputs": [],
   "source": [
    "a = 1im"
   ]
  },
  {
   "cell_type": "markdown",
   "metadata": {},
   "source": [
    "Now let's see how this works with strings. There are two ways to assign a string to a variable in Julia.\n",
    "\n",
    "This:"
   ]
  },
  {
   "cell_type": "code",
   "execution_count": null,
   "metadata": {},
   "outputs": [],
   "source": [
    "b = \"a string\"\n",
    "print(\"b is $b\")"
   ]
  },
  {
   "cell_type": "markdown",
   "metadata": {},
   "source": [
    "Or this:"
   ]
  },
  {
   "cell_type": "code",
   "execution_count": null,
   "metadata": {},
   "outputs": [],
   "source": [
    "c = \"\"\"a string\"\"\"\n",
    "print(\"c is $c\")"
   ]
  },
  {
   "cell_type": "markdown",
   "metadata": {},
   "source": [
    "The main difference between these two is that you can enclose substrings in quotes when you use `\"\"\" \"\"\"`:"
   ]
  },
  {
   "cell_type": "code",
   "execution_count": null,
   "metadata": {},
   "outputs": [],
   "source": [
    "c = \"\"\"a \"string\", if you know what I mean...\"\"\"\n",
    "print(\"c is $c\")"
   ]
  },
  {
   "cell_type": "code",
   "execution_count": null,
   "metadata": {},
   "outputs": [],
   "source": [
    "c = \"\"\"more like a 'string' am I right?\"\"\"  # WILL THIS WORK?\n",
    "print(\"c is $c\")"
   ]
  },
  {
   "cell_type": "code",
   "execution_count": null,
   "metadata": {},
   "outputs": [],
   "source": [
    "c = 'definitely a string' # HOW ABOUT THIS?\n",
    "print(\"c is $c\")"
   ]
  },
  {
   "cell_type": "code",
   "execution_count": null,
   "metadata": {},
   "outputs": [],
   "source": [
    "c = 'c'\n",
    "print(\"c is $c\")"
   ]
  },
  {
   "cell_type": "markdown",
   "metadata": {},
   "source": [
    "You've seen the dollar sign operator being used to put variables inside a string, but it can actually be used to evaluate whole Julia expressions:"
   ]
  },
  {
   "cell_type": "code",
   "execution_count": null,
   "metadata": {},
   "outputs": [],
   "source": [
    "print(\"The real part of $a is $(real(a)), and the imaginary part is $(imag(a))\")"
   ]
  },
  {
   "cell_type": "markdown",
   "metadata": {},
   "source": [
    "## Julia's Data Structures\n",
    "\n",
    "Now that we've seen how to assign values to variables, let's take a look at some of the standard data structures in Julia.\n",
    "\n",
    "### Tuples\n",
    "\n",
    "First in line are **Tuples**. If you are coming from Python, you know what these are. If you come from R, this will look similar to a vector to you (e.g., `c(1,2,3)` ). In short: tuples are ordered collections, which means you can access elements via indices. But tuples are immutable, meaning that you **can't assign new values** to any given element once a tuple has been created. \n",
    "\n"
   ]
  },
  {
   "cell_type": "code",
   "execution_count": null,
   "metadata": {},
   "outputs": [],
   "source": [
    "a_tuple = (1,2,3)\n",
    "print(a_tuple)\n",
    "\n",
    "a_tuple[1] # JULIA'S INDEXING STARTS AT 1, NOT 0!"
   ]
  },
  {
   "cell_type": "markdown",
   "metadata": {},
   "source": [
    "Unlike Python, but like R, we can name elements of tuples in Julia and use these names instead of indices to access the elements. These are called **Named Tuples:**"
   ]
  },
  {
   "cell_type": "code",
   "execution_count": null,
   "metadata": {},
   "outputs": [],
   "source": [
    "a_tuple = (one = 1, two = 2, three = 3)\n",
    "\n",
    "a_tuple.two"
   ]
  },
  {
   "cell_type": "code",
   "execution_count": null,
   "metadata": {},
   "outputs": [],
   "source": [
    "a_tuple.two = 4 # WILL THIS WORK?"
   ]
  },
  {
   "cell_type": "code",
   "execution_count": null,
   "metadata": {},
   "outputs": [],
   "source": [
    "another_tuple = (one = \"one\" , two = 2 , three = \"three\" , four = 4) # YOU CAN MIX STRINGS AND NUMBERS IN TUPLES"
   ]
  },
  {
   "cell_type": "markdown",
   "metadata": {},
   "source": [
    "### Arrays\n",
    "\n",
    "Next we look at **Arrays**. If you come from Python, this looks and feels just like a numpy n-dimensional array. If you come from R, this looks like, well... an n-dimensional array (what you get with the array( ) function).\n",
    "\n",
    "Arrays - like tuples - are ordered collections, meaning you can access elements via indices. But unlike tuples, arrays are **mutable**, so you can assign new values to elements after the array has been created."
   ]
  },
  {
   "cell_type": "code",
   "execution_count": null,
   "metadata": {},
   "outputs": [],
   "source": [
    "an_array = [1,2,3,4,5,6,7,8,9,10]"
   ]
  },
  {
   "cell_type": "code",
   "execution_count": null,
   "metadata": {},
   "outputs": [],
   "source": [
    "an_array[1] # GET ELEMENT AT POSITION 1"
   ]
  },
  {
   "cell_type": "code",
   "execution_count": null,
   "metadata": {},
   "outputs": [],
   "source": [
    "an_array[1] = 0 # REPLACE THE FIRST ELEMENT WITH 0\n",
    "\n",
    "an_array"
   ]
  },
  {
   "cell_type": "markdown",
   "metadata": {},
   "source": [
    "Just like in Python and R, it is possible to slice arrays and extract subsets of it by using ranges of indices."
   ]
  },
  {
   "cell_type": "code",
   "execution_count": null,
   "metadata": {},
   "outputs": [],
   "source": [
    "an_array[4:8]"
   ]
  },
  {
   "cell_type": "code",
   "execution_count": null,
   "metadata": {},
   "outputs": [],
   "source": [
    "an_array[5:end] # NOTICE THE \"end\""
   ]
  },
  {
   "cell_type": "markdown",
   "metadata": {},
   "source": [
    "You can add new elements to an array like this:"
   ]
  },
  {
   "cell_type": "code",
   "execution_count": null,
   "metadata": {},
   "outputs": [],
   "source": [
    "push!(an_array,11) # TRY IT WITHOUT THE BANG (!), WE WILL TALK ABOUT WHAT THIS DOES LATER"
   ]
  },
  {
   "cell_type": "markdown",
   "metadata": {},
   "source": [
    "Or if you want to add multiple elements at the same time, you can do this:"
   ]
  },
  {
   "cell_type": "code",
   "execution_count": null,
   "metadata": {},
   "outputs": [],
   "source": [
    "append!(an_array,[12,13,14,15])"
   ]
  },
  {
   "cell_type": "markdown",
   "metadata": {},
   "source": [
    "And then you can remove elements from the array:"
   ]
  },
  {
   "cell_type": "code",
   "execution_count": null,
   "metadata": {},
   "outputs": [],
   "source": [
    "pop!(an_array)\n",
    "\n",
    "an_array"
   ]
  },
  {
   "cell_type": "code",
   "execution_count": null,
   "metadata": {},
   "outputs": [],
   "source": [
    "deleteat!(an_array,5)"
   ]
  },
  {
   "cell_type": "code",
   "execution_count": null,
   "metadata": {},
   "outputs": [],
   "source": [
    "filter!(x -> x in an_array[3:5], an_array) # WE'LL COME BACK TO THIS LATER!"
   ]
  },
  {
   "cell_type": "markdown",
   "metadata": {},
   "source": [
    "Just like a numpy array, it is possible to change the dimensionality of a Julia array. The syntax is more R-like."
   ]
  },
  {
   "cell_type": "code",
   "execution_count": null,
   "metadata": {},
   "outputs": [],
   "source": [
    "size(an_array)"
   ]
  },
  {
   "cell_type": "code",
   "execution_count": null,
   "metadata": {},
   "outputs": [],
   "source": [
    "reshape(an_array,5,2)"
   ]
  },
  {
   "cell_type": "code",
   "execution_count": null,
   "metadata": {},
   "outputs": [],
   "source": [
    "reshape(an_array,2,1,5)"
   ]
  },
  {
   "cell_type": "markdown",
   "metadata": {},
   "source": [
    "You can also declare arrays like this:"
   ]
  },
  {
   "cell_type": "code",
   "execution_count": null,
   "metadata": {},
   "outputs": [],
   "source": [
    "a_column_vector = [1,2,3,4,5,6,7,8,9]"
   ]
  },
  {
   "cell_type": "code",
   "execution_count": null,
   "metadata": {},
   "outputs": [],
   "source": [
    "a_row_vector = [1 2 3 4 5 6 7 8 9]"
   ]
  },
  {
   "cell_type": "code",
   "execution_count": null,
   "metadata": {},
   "outputs": [],
   "source": [
    "a_matrix = [1 2 3; 4 5 6; 7 8 9]"
   ]
  },
  {
   "cell_type": "markdown",
   "metadata": {},
   "source": [
    "Similar to what happens in Python, we need to be careful when copying arrays! Assigning an entire array to another variable does not create a copy of the original array - it creates another \"alias\" you can use to operate on the original array!"
   ]
  },
  {
   "cell_type": "code",
   "execution_count": null,
   "metadata": {},
   "outputs": [],
   "source": [
    "another_array = an_array\n",
    "\n",
    "another_array[10] = 100\n",
    "\n",
    "an_array # NOTICE THE TENTH ELEMENT"
   ]
  },
  {
   "cell_type": "markdown",
   "metadata": {},
   "source": [
    "Once again like Python, if you need to copy an array for whatever reason, use the `copy` function:"
   ]
  },
  {
   "cell_type": "code",
   "execution_count": null,
   "metadata": {},
   "outputs": [],
   "source": [
    "another_array = copy(an_array)\n",
    "\n",
    "another_array[10] = 10000\n",
    "\n",
    "an_array # SEE ANY CHANGES?"
   ]
  },
  {
   "cell_type": "markdown",
   "metadata": {},
   "source": [
    "### Dictionaries\n",
    "\n",
    "FInally, we turn to **Dictionaries**. Like with Tuples, if you come from Python you know what these are. If you come from R, Dictionaries are a type of data structure that holds key-value pairs, similar to named lists or the `hash` library.\n",
    "\n",
    "Unlike Arrays and Tuples, Dictionaries are unordered collections and you **can't** access elements using indices. Instead, you use keys to retrieve values."
   ]
  },
  {
   "cell_type": "code",
   "execution_count": null,
   "metadata": {},
   "outputs": [],
   "source": [
    "a_dictionary = Dict(\"Spiderman\" => \"Peter Parker\", \"Superman\" => \"Clark Kent\", \"Batman\" => \"Bruce Wayne\")\n",
    "\n",
    "a_dictionary[\"Batman\"]"
   ]
  },
  {
   "cell_type": "markdown",
   "metadata": {},
   "source": [
    "Dictionaries are mutable:"
   ]
  },
  {
   "cell_type": "code",
   "execution_count": null,
   "metadata": {},
   "outputs": [],
   "source": [
    "a_dictionary[\"Batman\"] = \"Me\"\n",
    "\n",
    "a_dictionary[\"Batman\"]"
   ]
  },
  {
   "cell_type": "markdown",
   "metadata": {},
   "source": [
    "To add a new entry to a Dictionary, simply create a new key value pair:"
   ]
  },
  {
   "cell_type": "code",
   "execution_count": null,
   "metadata": {},
   "outputs": [],
   "source": [
    "a_dictionary[\"Hulk\"] = \"Bruce Banner\"\n",
    "\n",
    "a_dictionary"
   ]
  },
  {
   "cell_type": "markdown",
   "metadata": {},
   "source": [
    "Finally, to delete an entry, use `delete!`"
   ]
  },
  {
   "cell_type": "code",
   "execution_count": null,
   "metadata": {},
   "outputs": [],
   "source": [
    "delete!(a_dictionary,\"Batman\")"
   ]
  },
  {
   "cell_type": "markdown",
   "metadata": {},
   "source": [
    "### Sets\n",
    "\n",
    "Last in line are **Sets**. Sets are unordered, immutable collections where each element must be unique, i.e., there **cannot** be repeated elements. Sets come in handy when you need to remove duplicates from your data, or filter a dataset."
   ]
  },
  {
   "cell_type": "code",
   "execution_count": null,
   "metadata": {},
   "outputs": [],
   "source": [
    "evens = [2,2,2,4,4,4,4,6,8,10]\n",
    "\n",
    "Set(evens)"
   ]
  },
  {
   "cell_type": "code",
   "execution_count": null,
   "metadata": {},
   "outputs": [],
   "source": [
    "unique(evens)"
   ]
  },
  {
   "cell_type": "markdown",
   "metadata": {},
   "source": [
    "## Exercises"
   ]
  },
  {
   "cell_type": "markdown",
   "metadata": {},
   "source": [
    "**Ex1**: Assign your name and your undergrad - both between single quotes - as a dictionary entry's key and value. Print and then delete this entry. What is the output?"
   ]
  },
  {
   "cell_type": "code",
   "execution_count": null,
   "metadata": {},
   "outputs": [],
   "source": [
    "my_undergrad = ####"
   ]
  },
  {
   "cell_type": "markdown",
   "metadata": {},
   "source": [
    "**Ex2**: Use the `zeros(<length>)` function to create an array of 0's of length 100. Then use the `repeat([<input>],<length>)` function to append 100 1's to the end of array of zeroes. Reshape the resulting array as 50x4 matrix."
   ]
  },
  {
   "cell_type": "code",
   "execution_count": null,
   "metadata": {},
   "outputs": [],
   "source": [
    "zeroes = ####\n",
    "\n",
    "ones = ####\n",
    "\n",
    "zeroes = ####(####)\n",
    "\n",
    "reshape(####)"
   ]
  },
  {
   "cell_type": "markdown",
   "metadata": {},
   "source": [
    "**Ex3**: Reproduce the superhero example using a named tuple instead of a dictionary. Print the string \"My name is Clark Kent\" using the tuple you created."
   ]
  },
  {
   "cell_type": "code",
   "execution_count": null,
   "metadata": {},
   "outputs": [],
   "source": [
    "superheroes = ####"
   ]
  },
  {
   "cell_type": "code",
   "execution_count": null,
   "metadata": {},
   "outputs": [],
   "source": []
  }
 ],
 "metadata": {
  "kernelspec": {
   "display_name": "Julia 1.4.0",
   "language": "julia",
   "name": "julia-1.4"
  },
  "language_info": {
   "file_extension": ".jl",
   "mimetype": "application/julia",
   "name": "julia",
   "version": "1.4.0"
  }
 },
 "nbformat": 4,
 "nbformat_minor": 4
}
