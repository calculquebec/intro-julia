{
 "cells": [
  {
   "cell_type": "markdown",
   "metadata": {},
   "source": [
    "## Control Flow: Loops and Conditionals\n",
    "\n",
    "Now that we've seen how to work with Julia's core Data Structures, let's look into how we can loop through them and impose conditions for things to happen in a Julia program. \n",
    "\n",
    "## Loops\n",
    "\n",
    "The syntax for writing loops in Julia looks a lot like Python's, with a few key differences:\n",
    "\n",
    "* Identation is not mandatory (though it is **always** a good idea).\n",
    "* The `end` identifier is used to close loops.\n",
    "* You don't need the `range` function to create an iterable to loop through.\n",
    "\n",
    "Let's look at `for` loops first.\n",
    "\n",
    "### `for` Loops\n",
    "\n",
    "Syntax:\n",
    "\n",
    "```julia\n",
    "for *variable* in *iterable*\n",
    "    *work happens here*\n",
    "end\n",
    "```\n",
    "\n",
    "Example:"
   ]
  },
  {
   "cell_type": "code",
   "execution_count": null,
   "metadata": {},
   "outputs": [],
   "source": [
    "for i in 1:10\n",
    "print(\"i is $i \\n\") # NOTICE THE LACK OF IDENTATION. THIS WILL WORK, BUT LOOKS WEIRD... \n",
    "end"
   ]
  },
  {
   "cell_type": "markdown",
   "metadata": {},
   "source": [
    "Iterating through Data Structures looks just like Python:"
   ]
  },
  {
   "cell_type": "code",
   "execution_count": null,
   "metadata": {},
   "outputs": [],
   "source": [
    "an_array = [1,2,3,4,5,6,7,8,9,10]\n",
    "\n",
    "for i in an_array\n",
    "    print(\"i is $i \\n\")\n",
    "end"
   ]
  },
  {
   "cell_type": "markdown",
   "metadata": {},
   "source": [
    "Array comprehensions are the Julia version of Python's List comprehensions. This is the \"Julianic\" way of writing `for` loops.\n",
    "\n",
    "Syntax:\n",
    "\n",
    "```julia\n",
    "[*some work* for *variable* in *iterable*]\n",
    "```\n",
    "\n",
    "Example:"
   ]
  },
  {
   "cell_type": "code",
   "execution_count": null,
   "metadata": {},
   "outputs": [],
   "source": [
    "an_array_squared = [x^2 for x in an_array]"
   ]
  },
  {
   "cell_type": "markdown",
   "metadata": {},
   "source": [
    "You can write nested loops and return an array in that way too:"
   ]
  },
  {
   "cell_type": "code",
   "execution_count": null,
   "metadata": {},
   "outputs": [],
   "source": [
    "multiplication_table = [i * j for i in 1:10, j in 1:10]"
   ]
  },
  {
   "cell_type": "markdown",
   "metadata": {},
   "source": [
    "### `while` Loops\n",
    "\n",
    "Syntax:\n",
    "\n",
    "```julia\n",
    "while *some condition*\n",
    "    *work happens here*\n",
    "end\n",
    "```\n",
    "\n",
    "Example:"
   ]
  },
  {
   "cell_type": "code",
   "execution_count": null,
   "metadata": {},
   "outputs": [],
   "source": [
    "i=1\n",
    "while i<=length(an_array)\n",
    "    print(\"i is $(an_array[i]) \\n\")\n",
    "    i+=1\n",
    "end"
   ]
  },
  {
   "cell_type": "markdown",
   "metadata": {},
   "source": [
    "## Conditionals\n",
    "\n",
    "The syntax for conditionals in Julia is also very similar to Python's, also with some key differences:\n",
    "\n",
    "* `elseif` instead of elif\n",
    "* the `end` identifier to close `if` blocks\n",
    "\n",
    "Syntax:\n",
    "```julia\n",
    "if *condition 1*\n",
    "    *something happens*\n",
    "elseif *condition 2*\n",
    "    *different thing happens*\n",
    "else\n",
    "    *another thing happens*\n",
    "end\n",
    "```\n",
    "\n",
    "Like in Python and R, conditions in Julia are boolean expressions and the usual opperators are available:\n",
    "\n",
    "```Julia\n",
    "\n",
    "&& - *AND*\n",
    "|| - *OR*\n",
    "== - *equal to*\n",
    "=> - *greater or equal to*\n",
    "=< - *smaller or equal to*\n",
    "```\n",
    "\n",
    "Example:"
   ]
  },
  {
   "cell_type": "code",
   "execution_count": null,
   "metadata": {},
   "outputs": [],
   "source": [
    "if length(an_array)==10\n",
    "    println(\"10 bottles of beer on the wall\")\n",
    "    \n",
    "elseif length(an_array)==9\n",
    "    println(\"9 bottles of beer on the wall\")\n",
    "    \n",
    "elseif length(an_array)==1\n",
    "    println(\"1 bottle of beer on the wall\")\n",
    "    \n",
    "else println(\"not sure how many bottles of beer on the wall\")\n",
    "    \n",
    "end"
   ]
  },
  {
   "cell_type": "code",
   "execution_count": null,
   "metadata": {},
   "outputs": [],
   "source": [
    "if 2>3 && length(an_array)==10\n",
    "    println(\"You will never see me.\")\n",
    "else\n",
    "    println(\"But you will certainly see me.\")\n",
    "end"
   ]
  },
  {
   "cell_type": "code",
   "execution_count": null,
   "metadata": {},
   "outputs": [],
   "source": [
    "if 2>3 || length(an_array)>1\n",
    "    println(\"Now you will see me.\")\n",
    "else\n",
    "    println(\"But you will not see me.\")\n",
    "end"
   ]
  },
  {
   "cell_type": "code",
   "execution_count": null,
   "metadata": {},
   "outputs": [],
   "source": [
    "if 1 - 0.9999999999999999999 < eps()\n",
    "    println(\"This expression is technically zero to me.\")\n",
    "end"
   ]
  },
  {
   "cell_type": "code",
   "execution_count": null,
   "metadata": {},
   "outputs": [],
   "source": [
    "eps()"
   ]
  },
  {
   "cell_type": "markdown",
   "metadata": {},
   "source": [
    "You can also write conditionals using so-called **ternary operators**. The syntax\n",
    "```julia\n",
    "if a\n",
    " println(\"a is true\")\n",
    "else\n",
    "    println(\"is not true\")\n",
    "end\n",
    "```\n",
    "\n",
    "is equivalent to:\n",
    "\n",
    "```julia\n",
    "a ? println(\"a is true\") : println(\"a is not true\")\n",
    "```"
   ]
  },
  {
   "cell_type": "code",
   "execution_count": null,
   "metadata": {},
   "outputs": [],
   "source": [
    "a = true\n",
    "a ? println(\"a is true\") : println(\"a is not true\")"
   ]
  },
  {
   "cell_type": "code",
   "execution_count": null,
   "metadata": {},
   "outputs": [],
   "source": [
    "a = false \n",
    "a ? println(\"a is true\") : println(\"a is not true\")"
   ]
  },
  {
   "cell_type": "markdown",
   "metadata": {},
   "source": [
    "You can embed conditionals in array comprehensions too:"
   ]
  },
  {
   "cell_type": "code",
   "execution_count": null,
   "metadata": {},
   "outputs": [],
   "source": [
    "odds = [x for x in an_array if x%2>0] # '%' IS THE DIVISION REMAINDER OPERATOR "
   ]
  },
  {
   "cell_type": "markdown",
   "metadata": {},
   "source": [
    "And you can use conditionals inside a `while` loop to break out of the loop with the `break` identifier:"
   ]
  },
  {
   "cell_type": "code",
   "execution_count": null,
   "metadata": {},
   "outputs": [],
   "source": [
    "i=1\n",
    "while i<=length(an_array)\n",
    "    print(\"i is $(an_array[i]) \\n\")\n",
    "    i+=1\n",
    "    i>5 ? break : println(\"Keep going...\")\n",
    "end"
   ]
  },
  {
   "cell_type": "markdown",
   "metadata": {},
   "source": [
    "## Exercises\n",
    "\n",
    "**Ex1**: Use the variable \"an_array\" from above and write an array comprehension that returns all even numbers in the array with a negative sign. "
   ]
  },
  {
   "cell_type": "code",
   "execution_count": null,
   "metadata": {},
   "outputs": [],
   "source": [
    "negative_even = [#### for ##### in #### if #####]"
   ]
  },
  {
   "cell_type": "markdown",
   "metadata": {},
   "source": [
    "**Ex2**: Write a `while` loop that prints integers `n` and breaks when n is divisible by 2, 3 and 5, but is not equal to 30."
   ]
  },
  {
   "cell_type": "code",
   "execution_count": null,
   "metadata": {},
   "outputs": [],
   "source": [
    "n=1\n",
    "\n",
    "while n >= 1\n",
    "    ## print n here ##\n",
    "    ## don't forget to increment n ##\n",
    "    \n",
    "    ##your conditional here##\n",
    "    \n",
    " "
   ]
  },
  {
   "cell_type": "code",
   "execution_count": null,
   "metadata": {},
   "outputs": [],
   "source": []
  }
 ],
 "metadata": {
  "kernelspec": {
   "display_name": "Julia 1.4.0",
   "language": "julia",
   "name": "julia-1.4"
  },
  "language_info": {
   "file_extension": ".jl",
   "mimetype": "application/julia",
   "name": "julia",
   "version": "1.4.0"
  }
 },
 "nbformat": 4,
 "nbformat_minor": 4
}
