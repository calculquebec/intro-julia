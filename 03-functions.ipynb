{
 "cells": [
  {
   "cell_type": "markdown",
   "metadata": {},
   "source": [
    "## Functions\n",
    "\n",
    "We have now covered data structures and how to do work using them with control-flow statements. We now turn to **Functions** to tie everything together.\n",
    "\n",
    "\n",
    "### Declaring Functions\n",
    "\n",
    "Functions in Julia, like in Python, can be declared in a few different ways. The first way is the 'vanilla' explicit declaration that should look familiar to everyone.\n",
    "\n",
    "Syntax:\n",
    "\n",
    "```julia\n",
    "function *name*(*arguments*)\n",
    "    *work happens here*\n",
    "end\n",
    "```\n",
    "\n",
    "Example:"
   ]
  },
  {
   "cell_type": "code",
   "execution_count": null,
   "metadata": {},
   "outputs": [],
   "source": [
    "function hello_you(somebody)\n",
    "    println(\"Hello $(somebody)!\")\n",
    "end\n",
    "\n",
    "hello_you(\"World\")"
   ]
  },
  {
   "cell_type": "markdown",
   "metadata": {},
   "source": [
    "A leaner way to declare functions explicitly in Julia is the following\n",
    "\n",
    "Syntax:\n",
    "\n",
    "```julia\n",
    "*name*(*arguments*) = *work happens here*\n",
    "```\n",
    "\n",
    "Example:"
   ]
  },
  {
   "cell_type": "code",
   "execution_count": null,
   "metadata": {},
   "outputs": [],
   "source": [
    "hello_you_too(somebody) = println(\"Hello to $somebody too!\")\n",
    "\n",
    "hello_you_too(\"Mars\")"
   ]
  },
  {
   "cell_type": "markdown",
   "metadata": {},
   "source": [
    "Finally, you can declare functions implicitly too, these are called 'anonymous' or 'lambda' functions\n",
    "\n",
    "Syntax:\n",
    "```Julia\n",
    "*name* = *arguments* -> *work happens here*\n",
    "```"
   ]
  },
  {
   "cell_type": "code",
   "execution_count": null,
   "metadata": {},
   "outputs": [],
   "source": [
    "hello_you_all = somebody ->  println(\"Hello to all $(somebody)s out there!\")\n",
    "\n",
    "hello_you_all(\"World\")"
   ]
  },
  {
   "cell_type": "markdown",
   "metadata": {},
   "source": [
    "Here the same function declared in these three different ways:"
   ]
  },
  {
   "cell_type": "code",
   "execution_count": null,
   "metadata": {},
   "outputs": [],
   "source": [
    "function f(x)\n",
    "    x^2\n",
    "end\n",
    "\n",
    "g(x) = x^2\n",
    "\n",
    "h = x->x^2"
   ]
  },
  {
   "cell_type": "code",
   "execution_count": null,
   "metadata": {},
   "outputs": [],
   "source": [
    "f(2)"
   ]
  },
  {
   "cell_type": "code",
   "execution_count": null,
   "metadata": {},
   "outputs": [],
   "source": [
    "g(2)"
   ]
  },
  {
   "cell_type": "code",
   "execution_count": null,
   "metadata": {},
   "outputs": [],
   "source": [
    "h(2)"
   ]
  },
  {
   "cell_type": "markdown",
   "metadata": {},
   "source": [
    "And here is an example of an anonymous function with multiple arguments:"
   ]
  },
  {
   "cell_type": "code",
   "execution_count": null,
   "metadata": {},
   "outputs": [],
   "source": [
    "h2 = (x,y) -> x^2 + y^2 \n",
    "h2(2,2)"
   ]
  },
  {
   "cell_type": "markdown",
   "metadata": {},
   "source": [
    "## Work in Place or on a Copy? The Bang (!) Operator\n",
    "\n",
    "Recall the Data Structure examples from the first notebook. We had called some functions to perform operations on arrays and tuples, but there was that `!` symbol beside them. \n",
    "\n",
    "The `!` operator tells a function it must do whatever it does **in place**. This means a function followed by `!` will alter the original input, whereas calling the same function without the `!` will do work on a *copy* of the input.\n",
    "\n",
    "Examples:"
   ]
  },
  {
   "cell_type": "code",
   "execution_count": null,
   "metadata": {},
   "outputs": [],
   "source": [
    "an_array = [2,3,5,1,4]\n",
    "\n",
    "sort(an_array)"
   ]
  },
  {
   "cell_type": "code",
   "execution_count": null,
   "metadata": {},
   "outputs": [],
   "source": [
    "an_array"
   ]
  },
  {
   "cell_type": "code",
   "execution_count": null,
   "metadata": {},
   "outputs": [],
   "source": [
    "sort!(an_array)"
   ]
  },
  {
   "cell_type": "code",
   "execution_count": null,
   "metadata": {},
   "outputs": [],
   "source": [
    "an_array"
   ]
  },
  {
   "cell_type": "markdown",
   "metadata": {},
   "source": [
    "We've seen this example in the first notebook: the `filter` function is a *higher-order* function - a function that takes in a function as an argument. You can filter an input without affecting the original:"
   ]
  },
  {
   "cell_type": "code",
   "execution_count": null,
   "metadata": {},
   "outputs": [],
   "source": [
    "filter(x-> x ≠ 3, an_array) # YOU CAN USE UNICODE SYMBOLS LIKE ≠ (type \\ne and hit tab) IN JULIA!"
   ]
  },
  {
   "cell_type": "code",
   "execution_count": null,
   "metadata": {},
   "outputs": [],
   "source": [
    "an_array"
   ]
  },
  {
   "cell_type": "markdown",
   "metadata": {},
   "source": [
    "Or do it **in-place**:"
   ]
  },
  {
   "cell_type": "code",
   "execution_count": null,
   "metadata": {},
   "outputs": [],
   "source": [
    "filter!(x-> x ≠ 3, an_array)"
   ]
  },
  {
   "cell_type": "code",
   "execution_count": null,
   "metadata": {},
   "outputs": [],
   "source": [
    "an_array"
   ]
  },
  {
   "cell_type": "markdown",
   "metadata": {},
   "source": [
    "## Broadcasting - The Dot (.) Operator\n",
    "\n",
    "Broadcasting is an operation in Julia that allows, amongst other things, efficiently applying a function to all elements of an array. You can think of this as looping through the elemnts of an array and applying a function to each element, or using higher-order functions like `map` in Python or the `apply` family of functions in R. The `broadcast` operation in Julia *vectorizes* this process and takes advantage of parallelism where applicable to run this type of computation blazingly fast.\n",
    "\n",
    "Examples:"
   ]
  },
  {
   "cell_type": "code",
   "execution_count": null,
   "metadata": {},
   "outputs": [],
   "source": [
    "an_array_squared = f(an_array) # THE ^ OPERATION IS NOT DEFINED FOR 1-D ARRAYS (VECTORS)"
   ]
  },
  {
   "cell_type": "code",
   "execution_count": null,
   "metadata": {},
   "outputs": [],
   "source": [
    "an_array_squared = f.(an_array) # APPLY f TO an_array ELEMENT-WISE"
   ]
  },
  {
   "cell_type": "code",
   "execution_count": null,
   "metadata": {},
   "outputs": [],
   "source": [
    "a_matrix = reshape(1:100,10,10)\n",
    "\n",
    "a_matrix_squared = f(a_matrix) # THE ^ OPERATION IS DEFINED FOR MATRICES!"
   ]
  },
  {
   "cell_type": "code",
   "execution_count": null,
   "metadata": {},
   "outputs": [],
   "source": [
    "a_matrix_squared_element_wise = f.(a_matrix)"
   ]
  },
  {
   "cell_type": "markdown",
   "metadata": {},
   "source": [
    "This works with built-in mathematical operations too:"
   ]
  },
  {
   "cell_type": "code",
   "execution_count": null,
   "metadata": {},
   "outputs": [],
   "source": [
    "an_array.^2"
   ]
  },
  {
   "cell_type": "code",
   "execution_count": null,
   "metadata": {},
   "outputs": [],
   "source": [
    "a_matrix./2"
   ]
  },
  {
   "cell_type": "markdown",
   "metadata": {},
   "source": [
    "The `map` function also exists in Julia. Think of Broadcasting as a generalization of `map`. "
   ]
  },
  {
   "cell_type": "code",
   "execution_count": null,
   "metadata": {},
   "outputs": [],
   "source": [
    "map(f,an_array)"
   ]
  },
  {
   "cell_type": "markdown",
   "metadata": {},
   "source": [
    "## Exercises\n",
    "\n",
    "**Ex1:** Write a function that takes in the array below, filters out zeros and negative numbers, then multiplies every remaining element by 2."
   ]
  },
  {
   "cell_type": "code",
   "execution_count": null,
   "metadata": {},
   "outputs": [],
   "source": [
    "another_array = [-10,0,-9,0,-8,0,-7,0,-6,-5,0,-4,0,-3,0-2,0,-1,0,1,0,2,0,3,0,4,0,5,0,6,0,7,0,8,0,9,0,10]\n",
    "\n",
    "## YOUR CODE HERE ##"
   ]
  },
  {
   "cell_type": "markdown",
   "metadata": {},
   "source": [
    "**Ex2:** Write a function that loops through an array and prints an element if its square is greater than the length of the array. Test it on the array from from **Ex1**. Use the `length` function to get the length of the array. *CHALLENGE*: Do it in a single line of Julia code."
   ]
  },
  {
   "cell_type": "code",
   "execution_count": null,
   "metadata": {},
   "outputs": [],
   "source": [
    "## YOUR CODE HERE ##"
   ]
  }
 ],
 "metadata": {
  "kernelspec": {
   "display_name": "Julia 1.4.0",
   "language": "julia",
   "name": "julia-1.4"
  },
  "language_info": {
   "file_extension": ".jl",
   "mimetype": "application/julia",
   "name": "julia",
   "version": "1.4.0"
  }
 },
 "nbformat": 4,
 "nbformat_minor": 4
}
