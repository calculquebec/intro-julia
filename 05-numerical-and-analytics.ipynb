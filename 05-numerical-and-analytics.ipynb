{
 "cells": [
  {
   "cell_type": "markdown",
   "metadata": {},
   "source": [
    "## Numerical Computing and Data Analytics\n",
    "\n",
    "We have covered the basic functionalities of the Julia language so far. Now we will take a quick look at Julia's capabilities in Numerical Computing and Data Analytics.\n",
    "\n",
    "Julia started its life as a language geared towards scientific computing and, as such, mathematical operations and numerical computing are first class citizens of the language. Pretty much anything you can do with core MATLAB or numpy, you can do with core Julia with at least the same speed and stability... but Julia actually does way better than these frameworks in many cases.\n",
    "\n",
    "Let's look at Linear Algebra as an example:\n",
    "\n",
    "### Linear Algebra\n",
    "\n",
    "Doing Linear Algebra in Julia is straightforward. Here is how you perform a dot product between two vectors:"
   ]
  },
  {
   "cell_type": "code",
   "execution_count": null,
   "metadata": {},
   "outputs": [],
   "source": [
    "a = [1,2,3,4,5,6,7,8,9,10]\n",
    "b = [11,12,13,14,15,16,17,18,19,20]\n",
    "\n",
    "a'*b # NOTICE HOW WE TRANSPOSE a BY WRITING a'"
   ]
  },
  {
   "cell_type": "markdown",
   "metadata": {},
   "source": [
    "Or between two Matrices:"
   ]
  },
  {
   "cell_type": "code",
   "execution_count": null,
   "metadata": {},
   "outputs": [],
   "source": [
    "A = rand(10,10)\n",
    "B = rand(3,10)"
   ]
  },
  {
   "cell_type": "code",
   "execution_count": null,
   "metadata": {},
   "outputs": [],
   "source": [
    "A*B'"
   ]
  },
  {
   "cell_type": "markdown",
   "metadata": {},
   "source": [
    "You can also write dot products like this:"
   ]
  },
  {
   "cell_type": "code",
   "execution_count": null,
   "metadata": {},
   "outputs": [],
   "source": [
    "a'b"
   ]
  },
  {
   "cell_type": "code",
   "execution_count": null,
   "metadata": {},
   "outputs": [],
   "source": [
    "A'B'"
   ]
  },
  {
   "cell_type": "code",
   "execution_count": null,
   "metadata": {},
   "outputs": [],
   "source": [
    "AB' # WILL THIS WORK?"
   ]
  },
  {
   "cell_type": "markdown",
   "metadata": {},
   "source": [
    "You can check the condition number of a matrix before using it in further computations:"
   ]
  },
  {
   "cell_type": "code",
   "execution_count": null,
   "metadata": {},
   "outputs": [],
   "source": [
    "using LinearAlgebra\n",
    "\n",
    "cond(A)"
   ]
  },
  {
   "cell_type": "markdown",
   "metadata": {},
   "source": [
    "Then you can invert a matrix:"
   ]
  },
  {
   "cell_type": "code",
   "execution_count": null,
   "metadata": {},
   "outputs": [],
   "source": [
    "inv(A)"
   ]
  },
  {
   "cell_type": "markdown",
   "metadata": {},
   "source": [
    "Compute its determinant:"
   ]
  },
  {
   "cell_type": "code",
   "execution_count": null,
   "metadata": {},
   "outputs": [],
   "source": [
    "det(A)"
   ]
  },
  {
   "cell_type": "markdown",
   "metadata": {},
   "source": [
    "Its eigenvalues:"
   ]
  },
  {
   "cell_type": "code",
   "execution_count": null,
   "metadata": {},
   "outputs": [],
   "source": [
    "eigen(A).values"
   ]
  },
  {
   "cell_type": "markdown",
   "metadata": {},
   "source": [
    "And eigenvectors:"
   ]
  },
  {
   "cell_type": "code",
   "execution_count": null,
   "metadata": {},
   "outputs": [],
   "source": [
    "eigen(A).vectors"
   ]
  },
  {
   "cell_type": "markdown",
   "metadata": {},
   "source": [
    "You can easily solve Linear Systems:"
   ]
  },
  {
   "cell_type": "code",
   "execution_count": null,
   "metadata": {},
   "outputs": [],
   "source": [
    "A \\ b # FIND x WHERE Ax = b"
   ]
  },
  {
   "cell_type": "markdown",
   "metadata": {},
   "source": [
    "And do lots more including factorizations, decompositions, rotations and other transformations."
   ]
  },
  {
   "cell_type": "markdown",
   "metadata": {},
   "source": [
    "## Data Frames\n",
    "\n",
    "Over the last decade, R-like Data Frames have become the standard data structure for Data Analytics, Statistics and Machine Learning applications. Native in R and available in Python through the `pandas` library, Data Frames can be thought of as tables containing variables of interest on its columns. Each column can be given a name and variables can be extracted, referred to and otherwise manipulated by name in computations.\n",
    "\n",
    "In Julia, Data Frames are available through the DataFrames package:"
   ]
  },
  {
   "cell_type": "code",
   "execution_count": null,
   "metadata": {},
   "outputs": [],
   "source": [
    "#Pkg.add(\"DataFrames\")\n",
    "using DataFrames"
   ]
  },
  {
   "cell_type": "code",
   "execution_count": null,
   "metadata": {},
   "outputs": [],
   "source": [
    "a_data_frame = DataFrame(Y=rand(5), X1 = 1:5, X2 = [\"Category 1\", \"Category 2\", \"Category 2\", \"Category 3\", \"Category 3\"])"
   ]
  },
  {
   "cell_type": "markdown",
   "metadata": {},
   "source": [
    "You can easily compute summary Statistics for the entire Data Frame:"
   ]
  },
  {
   "cell_type": "code",
   "execution_count": null,
   "metadata": {},
   "outputs": [],
   "source": [
    "describe(a_data_frame)"
   ]
  },
  {
   "cell_type": "markdown",
   "metadata": {},
   "source": [
    "Or you can apply functions to each column individually:"
   ]
  },
  {
   "cell_type": "code",
   "execution_count": null,
   "metadata": {},
   "outputs": [],
   "source": [
    "using Statistics\n",
    "\n",
    "mean(a_data_frame.Y)"
   ]
  },
  {
   "cell_type": "code",
   "execution_count": null,
   "metadata": {},
   "outputs": [],
   "source": [
    "std(a_data_frame.Y)"
   ]
  },
  {
   "cell_type": "code",
   "execution_count": null,
   "metadata": {},
   "outputs": [],
   "source": [
    "sum(a_data_frame.Y)"
   ]
  },
  {
   "cell_type": "markdown",
   "metadata": {},
   "source": [
    "You can load data from disk directly into Data Frames as well:"
   ]
  },
  {
   "cell_type": "code",
   "execution_count": null,
   "metadata": {},
   "outputs": [],
   "source": [
    "#Pkg.add(\"CSV\")\n",
    "using CSV"
   ]
  },
  {
   "cell_type": "code",
   "execution_count": null,
   "metadata": {},
   "outputs": [],
   "source": [
    "another_data_frame = CSV.read(\"./iris.csv\",header=0)"
   ]
  },
  {
   "cell_type": "code",
   "execution_count": null,
   "metadata": {},
   "outputs": [],
   "source": [
    "rename!(another_data_frame, [\"sepal_length\",\"sepal_width\",\"petal_length\",\"petal_width\",\"species\"])"
   ]
  },
  {
   "cell_type": "markdown",
   "metadata": {},
   "source": [
    "## Plotting\n",
    "\n",
    "We've seen a simple example of a scatterplot in a previous notebook. Now let's look into Plotting in Julia more in depth.\n",
    "\n",
    "The built-in plotting library in Julia is `Plots` and it is pretty powerful. We will focus on it here, but you can easily switch to other well-known libraries like `Plotly`, `PyPlot` and `Gadfly` (similar to R's `ggplot2`)."
   ]
  },
  {
   "cell_type": "code",
   "execution_count": null,
   "metadata": {},
   "outputs": [],
   "source": [
    "using Plots\n",
    "\n",
    "scatter(another_data_frame.sepal_length,another_data_frame.sepal_width, group=another_data_frame.species)\n",
    "\n",
    "# @df another_data_frame scatter(:sepal_length,:sepal_width,group=:species)"
   ]
  },
  {
   "cell_type": "code",
   "execution_count": null,
   "metadata": {},
   "outputs": [],
   "source": [
    "title!(\"Sepal Length vs Width per Iris Species\")\n",
    "\n",
    "xlabel!(\"Sepal Length\")\n",
    "\n",
    "ylabel!(\"Sepal Width\")"
   ]
  },
  {
   "cell_type": "markdown",
   "metadata": {},
   "source": [
    "You can keep adding elements to the plot... like plotting a function on top of the scatterplot:"
   ]
  },
  {
   "cell_type": "code",
   "execution_count": null,
   "metadata": {},
   "outputs": [],
   "source": [
    "f(x) = x/2\n",
    "\n",
    "plot!(f)"
   ]
  },
  {
   "cell_type": "markdown",
   "metadata": {},
   "source": [
    "You can even create amimated plots!"
   ]
  },
  {
   "cell_type": "code",
   "execution_count": null,
   "metadata": {},
   "outputs": [],
   "source": [
    "default(legend = false)\n",
    "x = range(-5, 5, length = 40)\n",
    "n = 100\n",
    "\n",
    "@gif for i in range(0, stop = 2π, length = n) # NOTICE THE UNICODE pi (TYPE \\pi AND HIT TAB)\n",
    "    f(x) = sin(x+i)^2\n",
    "    p = plot(f)\n",
    "        \n",
    "end"
   ]
  },
  {
   "cell_type": "code",
   "execution_count": null,
   "metadata": {},
   "outputs": [],
   "source": []
  }
 ],
 "metadata": {
  "kernelspec": {
   "display_name": "Julia 1.4.0",
   "language": "julia",
   "name": "julia-1.4"
  },
  "language_info": {
   "file_extension": ".jl",
   "mimetype": "application/julia",
   "name": "julia",
   "version": "1.4.0"
  }
 },
 "nbformat": 4,
 "nbformat_minor": 4
}
